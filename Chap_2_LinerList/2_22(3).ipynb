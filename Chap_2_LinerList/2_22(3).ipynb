{
 "cells": [
  {
   "cell_type": "markdown",
   "metadata": {},
   "source": [
    "## Chapter_2 Linear List"
   ]
  },
  {
   "cell_type": "markdown",
   "metadata": {},
   "source": [
    "### 2.22 多维数字信号的线性表表示及操作\n",
    "1.为一个不定长多维数字信号设计一个数据结构（形如下图所示），并实现对其进行基本操作，包括初始化、求数据元素个数操作、插入、删除、取数据元素、判非空操作。  \n",
    "2.能够实现多维信号的简单运算和操作， 如均值滤波、 上采样和下采样等。  \n",
    "注：  \n",
    "+均值滤波： 滤波每个结点的值等于前后结点的均值，如滤波器长度为 3，则第二结点滤波后的值为： ([1 2 3]+ [2 1 10]+ [-5 2 8])/3。  \n",
    "+下采样： 减少结点数目，如下采样后的链表中的结点是原链表中每隔一个结点的值.  \n",
    "+上采样： 增加结点数目，如上采样后的链表中的结点数目是原链表中结点数目的 2 倍，对于新增的结点的值可以用插值方法计算，如新增结点的值可以为相邻两个结点的均值等。  \n",
    "3.所设计的程序需要包含一个测试主函数，用于运行验证所设计程序的正\n",
    "确性。\n",
    "4.测试程序的输入数据以文本文件形式提供，输出亦为文本文件形式；各\n",
    "个数据点之间以回车换行分开，每个数据点的各维之间以逗号分隔开。例如\n",
    "数据点是三维数据，数据文件格式如下：  \n",
    "1,2,3    \n",
    "2,1,10  \n",
    "-5,2,8  \n",
    "9,3,2  \n",
    "19,23,42"
   ]
  },
  {
   "cell_type": "code",
   "execution_count": 10,
   "metadata": {},
   "outputs": [],
   "source": [
    "#————————以下为结点和列表的定义及其方法——————————#\n",
    "class Node:\n",
    "    def __init__(self,data):\n",
    "        self.data = data\n",
    "        self.next = None\n",
    "        \n",
    "class LinkedList:\n",
    "    def __init__(self):\n",
    "        self.__head = Node(None) #创建空的头节点\n",
    "        self.length = 0\n",
    "        self.Max_Dim = 0\n",
    "\n",
    "    def __Max_dim(self):\n",
    "        cur = self.__head.next\n",
    "        max_l = 0                #返回最大的维度\n",
    "        while cur is not None:\n",
    "            if len(cur.data) > max_l:\n",
    "                max_l = len(cur.data)\n",
    "            cur = cur.next\n",
    "        return int(max_l)       #返回最大的维度整型\n",
    "\n",
    "    def DestroyList(self):\n",
    "        cur = self.__head.next\n",
    "        n_delete = self.__head.next\n",
    "        while cur is not None:\n",
    "            n_delete = cur \n",
    "            del(n_delete)\n",
    "            cur = cur.next\n",
    "        self.__head.next = None\n",
    "        self.Max_Dim = 0\n",
    "        self.length = 0\n",
    "        return True\n",
    "\n",
    "    def is_not_empty(self):\n",
    "        if self.__head.next != None:\n",
    "            return True    #直接看有没有首元结点\n",
    "        else:\n",
    "            return False\n",
    "            \n",
    "#——————创建链表，本链表带有头结点，注释部分为先前无头链表的内容————————#\n",
    "    def CreateList(self):\n",
    "        L = self.__head\n",
    "        tail = L\n",
    "        if(self.is_not_empty()):\n",
    "            self.DestroyList()  #非空就先删除\n",
    "        with open('./test_data.txt','r') as data:\n",
    "            for line in data.readlines():\n",
    "            #L = self.__head\n",
    "                if line is not None:\n",
    "                    line_data = list(map(float,line.strip().split(',')))\n",
    "                    # if L is None:\n",
    "                    #     new_node = Node(line_data)\n",
    "                    #     self.__head = new_node\n",
    "                    #     tail = self.__head\n",
    "                    #     self.length += 1 for循环以后的注释针对无头表\n",
    "                    #else:\n",
    "                    new_node = Node(line_data)\n",
    "                    tail.next = new_node\n",
    "                    tail = new_node\n",
    "                    self.length += 1\n",
    "                else:\n",
    "                    return False\n",
    "        self.Max_Dim=self.__Max_dim()\n",
    "        \n",
    "    def Printlist(self):\n",
    "        L = self.__head.next\n",
    "        while L is not None:\n",
    "            print(L.data,end = '\\n')\n",
    "            L = L.next\n",
    "\n",
    "    def LengthofList(self):\n",
    "        L = self.__head.next\n",
    "        count = 0\n",
    "        while L is not None:\n",
    "            count += 1\n",
    "            self.length = count\n",
    "            L = L.next\n",
    "        return int(count)\n",
    "\n",
    "    def Numofitem(self):\n",
    "        L = self.__head.next\n",
    "        count = 0\n",
    "        while L is not None:\n",
    "            count += len(L.data) \n",
    "            print(type(L.data))\n",
    "        \n",
    "            L = L.next\n",
    "        return int(count)\n",
    "    \n",
    "    def Insert_by_indice(self,index:int,elem):\n",
    "        cur = self.__head\n",
    "        if index > self.length:\n",
    "            index = self.length\n",
    "        elif index < 0:\n",
    "            index = 0\n",
    "        for i in range(index):\n",
    "            cur = cur.next #elem 为list型\n",
    "        new_node = Node(list(elem))\n",
    "        new_node.next = cur.next\n",
    "        cur.next = new_node\n",
    "        self.length += 1\n",
    "        self.Length_normalize()\n",
    "    \n",
    "    def Get_elem(self,index:int):\n",
    "        cur = self.__head #传入第index个文件\n",
    "        if index > self.length:\n",
    "            return self.Get_elem(self.length)\n",
    "            #长度超出，返回最后一个结点\n",
    "        else:\n",
    "            for i in range(index):\n",
    "                cur = cur.next\n",
    "        return cur.data\n",
    "\n",
    "    def Get_more_elem(self,indice:list):\n",
    "        indice = list(indice)\n",
    "        out_list = []\n",
    "        for i in indice:\n",
    "            i = int(i)\n",
    "            out_list.append(self.Get_elem(i))\n",
    "        return out_list\n",
    "\n",
    "    def Delete_elem(self,index:int):\n",
    "        cur = self.__head\n",
    "        p = self.__head\n",
    "        if self.is_not_empty():\n",
    "            if index < 1:\n",
    "                p = cur.next\n",
    "                cur.next = p.next\n",
    "                del(p)\n",
    "            elif index > self.length:\n",
    "                for i in range(self.length-1):\n",
    "                    cur = cur.next\n",
    "                    p = cur.next\n",
    "                cur.next = cur.next.next\n",
    "                del(p)#过大删除最后一个\n",
    "                self.length-=1\n",
    "            else:\n",
    "                for i in range(index-1):\n",
    "                    cur = cur.next\n",
    "                    p = cur.next\n",
    "                cur.next = cur.next.next\n",
    "                del(p)\n",
    "                self.length-=1\n",
    "        else:\n",
    "            print(\"空表不能删除\")\n",
    "\n",
    "    def input_elem(self,index_1):\n",
    "        temp_a = input()\n",
    "        temp_a = temp_a.split(',')#用逗号分隔数字\n",
    "        self.Insert_by_indice(index_1,temp_a) \n",
    "\n",
    "    def Get_index_by_elem(self,elem):\n",
    "        cur = self.__head.next\n",
    "        i = 0\n",
    "        count = 1\n",
    "        a = []\n",
    "        while cur is not None:\n",
    "            if cur.data == elem:\n",
    "                a.append(count)\n",
    "            count += 1\n",
    "            cur = cur.next\n",
    "        return a #返回元素索引\n",
    "\n",
    "    def Length_normalize(self):\n",
    "        cur = self.__head.next\n",
    "        while cur is not None:\n",
    "            if len(cur.data) < self.Max_Dim:\n",
    "                cur.data += [0]*(self.Max_Dim-len(cur.data))\n",
    "                #如果不等长就填0\n",
    "            cur = cur.next\n",
    "        self.LengthofList()\n",
    "\n",
    "    def Down_Sampling(self):\n",
    "        i = 1\n",
    "        cur = self.__head.next\n",
    "        p = self.__head\n",
    "        if self.length%2 == 0:\n",
    "            self.Delete_elem(self.length)#结点为偶数，删除最后一个\n",
    "            while cur.next is not None:\n",
    "                p = cur.next\n",
    "                cur.next = cur.next.next\n",
    "                cur=cur.next\n",
    "                del(p)\n",
    "                i+=1\n",
    "        else:\n",
    "            while cur.next is not None:\n",
    "                p = cur.next\n",
    "                cur.next = cur.next.next\n",
    "                cur=cur.next\n",
    "                del(p)\n",
    "                i+=1\n",
    "        self.LengthofList()\n",
    "\n",
    "    def ave_filiter_s(self):\n",
    "        if self.length < 3:\n",
    "            print(\"长度过小不能滤波\")\n",
    "            return False\n",
    "        else:\n",
    "            cur = self.__head.next.next\n",
    "            pre = self.__head.next\n",
    "            next_n = self.__head.next.next.next\n",
    "            while cur.next is not None:\n",
    "                Pre_node = pre.data\n",
    "                Next_node = next_n.data\n",
    "                cur.data = [(i + j + k)/(self.Max_Dim) for i, j, k in zip(Pre_node, Next_node,cur.data)]\n",
    "                cur = cur.next\n",
    "                next_n = next_n.next\n",
    "                pre = pre.next\n",
    "\n",
    "    def ave_filiter(self):\n",
    "        if self.length < 3:\n",
    "            print(\"长度过小不能滤波\")\n",
    "            return False\n",
    "        else:\n",
    "            NewList = LinkedList()\n",
    "            NewList.CreateList()\n",
    "            cur = NewList.__head.next.next\n",
    "            pre = self.__head.next\n",
    "            next_n = self.__head.next.next.next\n",
    "            while cur.next is not None:\n",
    "                Pre_node = pre.data\n",
    "                Next_node = next_n.data\n",
    "                cur.data = [(i + j + k)/(self.Max_Dim) for i, j, k in zip(Pre_node, Next_node,cur.data)]\n",
    "                cur = cur.next\n",
    "                next_n = next_n.next\n",
    "                pre = pre.next\n",
    "        return NewList\n",
    "\n",
    "    def Up_Sampling(self):\n",
    "        cur = self.__head.next\n",
    "        while cur.next is not None:\n",
    "            new_node = Node([(i + j )/2 for i, j in zip(cur.data, cur.next.data)])\n",
    "            new_node.next=cur.next\n",
    "            cur.next = new_node\n",
    "            cur = new_node.next\n",
    "            self.length+=1\n",
    "    \n",
    "    def Write_in_txt(self,name:str):\n",
    "        name = str(name)\n",
    "        f = open('./'+name+'.txt','w')\n",
    "        f.seek(0)\n",
    "        f.truncate()\n",
    "        cur = self.__head.next\n",
    "        f.writelines('The output data'+'\\n')\n",
    "        while cur is not None:\n",
    "            f.writelines(str(cur.data)+'\\n')\n",
    "            cur = cur.next\n"
   ]
  },
  {
   "cell_type": "code",
   "execution_count": 4,
   "metadata": {},
   "outputs": [
    {
     "name": "stdout",
     "output_type": "stream",
     "text": [
      "链表创建成功\n",
      "[1.0, 2.0, 3.0]\n",
      "[2.0, 1.0, 10.0]\n",
      "[-5.0, 2.0, 8.0]\n",
      "[9.0, 3.0, 2.0]\n",
      "[19.0, 23.0, 42.0]\n",
      "链表长度为：\n",
      "5\n"
     ]
    }
   ],
   "source": [
    "a = LinkedList()\n",
    "a.CreateList()\n",
    "#a.Printlist()\n",
    "#print(a.Get_elem(6))\n",
    "#print(a.length)\n",
    "#print(a.Get_index_by_elem([1.0,2.0,3.0]))\n",
    "a.Length_normalize() #维度归一化\n",
    "print(\"链表创建成功\")\n",
    "a.Printlist()\n",
    "print(\"链表长度为：\")\n",
    "print(a.length)"
   ]
  },
  {
   "cell_type": "markdown",
   "metadata": {},
   "source": [
    "#### 基本功能演示"
   ]
  },
  {
   "cell_type": "markdown",
   "metadata": {},
   "source": [
    "##### *删除元素*"
   ]
  },
  {
   "cell_type": "code",
   "execution_count": 5,
   "metadata": {},
   "outputs": [
    {
     "name": "stdout",
     "output_type": "stream",
     "text": [
      "原链表:\n",
      "[1.0, 2.0, 3.0]\n",
      "[2.0, 1.0, 10.0]\n",
      "[-5.0, 2.0, 8.0]\n",
      "[9.0, 3.0, 2.0]\n",
      "[19.0, 23.0, 42.0]\n",
      "删除第1个元素\n",
      "[2.0, 1.0, 10.0]\n",
      "[-5.0, 2.0, 8.0]\n",
      "[9.0, 3.0, 2.0]\n",
      "[19.0, 23.0, 42.0]\n"
     ]
    }
   ],
   "source": [
    "#正常删除元素\n",
    "print(\"原链表:\")\n",
    "a.Printlist()\n",
    "index = 1 \n",
    "print(\"删除第%d个元素\" % index)\n",
    "a.Delete_elem(index)\n",
    "a.Printlist()"
   ]
  },
  {
   "cell_type": "code",
   "execution_count": 64,
   "metadata": {},
   "outputs": [
    {
     "name": "stdout",
     "output_type": "stream",
     "text": [
      "原链表:\n",
      "[1.0, 2.0, 3.0]\n",
      "[2.0, 1.0, 10.0]\n",
      "[-5.0, 2.0, 8.0]\n",
      "[9.0, 3.0, 2.0]\n",
      "[19.0, 23.0, 42.0]\n",
      "\n",
      "\n",
      "删除第100个元素（参数过大）\n",
      "[1.0, 2.0, 3.0]\n",
      "[2.0, 1.0, 10.0]\n",
      "[-5.0, 2.0, 8.0]\n",
      "[9.0, 3.0, 2.0]\n",
      "删除了最后一个元素\n",
      "\n",
      "\n",
      "删除第-2个元素（参数过小）\n",
      "[2.0, 1.0, 10.0]\n",
      "[-5.0, 2.0, 8.0]\n",
      "[9.0, 3.0, 2.0]\n",
      "[19.0, 23.0, 42.0]\n",
      "删除了第一个元素\n"
     ]
    }
   ],
   "source": [
    "#异常删除元素\n",
    "a.CreateList()\n",
    "print(\"原链表:\")\n",
    "a.Printlist()\n",
    "print(\"\\n\")\n",
    "\n",
    "index = 100 \n",
    "print(\"删除第%d个元素（参数过大）\" % index)\n",
    "a.Delete_elem(index)\n",
    "a.Printlist()\n",
    "print(\"删除了最后一个元素\")\n",
    "print(\"\\n\")\n",
    "\n",
    "a.CreateList() #再次创建链表，方便演示\n",
    "index = -2\n",
    "print(\"删除第%d个元素（参数过小）\" % index)\n",
    "a.Delete_elem(index)\n",
    "a.Printlist()\n",
    "print(\"删除了第一个元素\")"
   ]
  },
  {
   "cell_type": "markdown",
   "metadata": {},
   "source": [
    "##### *增加元素*"
   ]
  },
  {
   "cell_type": "code",
   "execution_count": 7,
   "metadata": {},
   "outputs": [
    {
     "name": "stdout",
     "output_type": "stream",
     "text": [
      "4\n",
      "[20, 56, 25]\n",
      "[1.0, 2.0, 3.0]\n",
      "[2.0, 1.0, 10.0]\n",
      "[-5.0, 2.0, 8.0]\n",
      "[9.0, 3.0, 2.0]\n",
      "[19.0, 23.0, 42.0]\n"
     ]
    }
   ],
   "source": [
    "a = LinkedList()\n",
    "a.CreateList()\n",
    "\n",
    "index = 100 \n",
    "print(\"在位置%d增加元素（参数过大）\" % index)\n",
    "a.Insert_by_indice(index,[20,56,25])\n",
    "a.Printlist()\n",
    "print(\"加到了末尾\")\n",
    "print(\"\\n\")\n",
    "\n",
    "a.CreateList()\n",
    "index = -1 \n",
    "print(\"在位置%d增加元素（参数过小）\" % index)\n",
    "a.Insert_by_indice(index,[20,56,25])\n",
    "a.Printlist()\n",
    "print(\"加到了第一个结点\")\n",
    "print(\"\\n\")"
   ]
  },
  {
   "cell_type": "markdown",
   "metadata": {},
   "source": [
    "##### 取数据元素"
   ]
  },
  {
   "cell_type": "code",
   "execution_count": 27,
   "metadata": {},
   "outputs": [
    {
     "name": "stdout",
     "output_type": "stream",
     "text": [
      "[[1.0, 2.0, 3.0]]\n"
     ]
    }
   ],
   "source": [
    "a = LinkedList()\n",
    "a.CreateList()\n",
    "print(a.Get_more_elem([1,3,5]))#返回元素是list的list"
   ]
  },
  {
   "cell_type": "markdown",
   "metadata": {},
   "source": [
    "##### 判断非空"
   ]
  },
  {
   "cell_type": "code",
   "execution_count": 16,
   "metadata": {},
   "outputs": [
    {
     "name": "stdout",
     "output_type": "stream",
     "text": [
      "链表是非空的吗？\n",
      "True\n",
      "这下呢？\n",
      "False\n"
     ]
    }
   ],
   "source": [
    "print(\"链表是非空的吗？\")\n",
    "print(a.is_not_empty())\n",
    "a.DestroyList()\n",
    "print(\"这下呢？\")\n",
    "print(a.is_not_empty())"
   ]
  },
  {
   "cell_type": "markdown",
   "metadata": {},
   "source": [
    "#### 采样&滤波演示"
   ]
  },
  {
   "cell_type": "code",
   "execution_count": 25,
   "metadata": {},
   "outputs": [
    {
     "name": "stdout",
     "output_type": "stream",
     "text": [
      "原来的链表\n",
      "[1.0, 2.0, 3.0]\n",
      "[2.0, 1.0, 10.0]\n",
      "[-5.0, 2.0, 8.0]\n",
      "[9.0, 3.0, 2.0]\n",
      "[19.0, 23.0, 42.0]\n",
      "\n",
      "\n",
      "下采样结果\n",
      "[1.0, 2.0, 3.0]\n",
      "[-5.0, 2.0, 8.0]\n",
      "[19.0, 23.0, 42.0]\n",
      "\n",
      "\n",
      "均值滤波结果（取均值）\n",
      "[1.0, 2.0, 3.0]\n",
      "[-0.6666666666666666, 1.6666666666666667, 7.0]\n",
      "[2.0, 2.0, 6.666666666666667]\n",
      "[7.666666666666667, 9.333333333333334, 17.333333333333332]\n",
      "[19.0, 23.0, 42.0]\n",
      "\n",
      "\n",
      "均值滤波结果（滑动）\n",
      "[1.0, 2.0, 3.0]\n",
      "[-0.6666666666666666, 1.6666666666666667, 7.0]\n",
      "[1.1111111111111114, 2.2222222222222223, 5.666666666666667]\n",
      "[9.703703703703704, 9.407407407407407, 16.555555555555554]\n",
      "[19.0, 23.0, 42.0]\n",
      "\n",
      "\n",
      "上采样结果\n",
      "[1.0, 2.0, 3.0]\n",
      "[1.5, 1.5, 6.5]\n",
      "[2.0, 1.0, 10.0]\n",
      "[-1.5, 1.5, 9.0]\n",
      "[-5.0, 2.0, 8.0]\n",
      "[2.0, 2.5, 5.0]\n",
      "[9.0, 3.0, 2.0]\n",
      "[14.0, 13.0, 22.0]\n",
      "[19.0, 23.0, 42.0]\n"
     ]
    },
    {
     "data": {
      "text/plain": [
       "True"
      ]
     },
     "execution_count": 25,
     "metadata": {},
     "output_type": "execute_result"
    }
   ],
   "source": [
    "a.CreateList()\n",
    "a.Length_normalize()\n",
    "print(\"原来的链表\")\n",
    "a.Printlist()\n",
    "print(\"\\n\")\n",
    "a.Down_Sampling()\n",
    "a.Write_in_txt('下采样结果')\n",
    "print(\"下采样结果\")\n",
    "a.Printlist()\n",
    "print(\"\\n\")\n",
    "\n",
    "a.CreateList()\n",
    "a.ave_filiter()\n",
    "a.Write_in_txt('均值滤波结果(取均值)')  \n",
    "print(\"均值滤波结果（取均值）\")\n",
    "b = a.ave_filiter()\n",
    "b.Printlist()\n",
    "print(\"\\n\")\n",
    "\n",
    "a.CreateList()\n",
    "a.ave_filiter_s()\n",
    "a.Write_in_txt('均值滤波结果(滑动)')\n",
    "print(\"均值滤波结果（滑动）\")\n",
    "a.Printlist()\n",
    "print(\"\\n\")\n",
    "\n",
    "a.CreateList()\n",
    "a.Up_Sampling()\n",
    "a.Write_in_txt('上采样结果')\n",
    "print(\"上采样结果\")\n",
    "a.Printlist()\n",
    "\n",
    "a.DestroyList()"
   ]
  },
  {
   "cell_type": "markdown",
   "metadata": {},
   "source": [
    "##### 结束"
   ]
  },
  {
   "cell_type": "code",
   "execution_count": 26,
   "metadata": {},
   "outputs": [
    {
     "data": {
      "text/plain": [
       "True"
      ]
     },
     "execution_count": 26,
     "metadata": {},
     "output_type": "execute_result"
    }
   ],
   "source": [
    "#删表走人\n",
    "a.DestroyList()"
   ]
  }
 ],
 "metadata": {
  "kernelspec": {
   "display_name": "Python 3.10.9 ('base')",
   "language": "python",
   "name": "python3"
  },
  "language_info": {
   "codemirror_mode": {
    "name": "ipython",
    "version": 3
   },
   "file_extension": ".py",
   "mimetype": "text/x-python",
   "name": "python",
   "nbconvert_exporter": "python",
   "pygments_lexer": "ipython3",
   "version": "3.10.9"
  },
  "orig_nbformat": 4,
  "vscode": {
   "interpreter": {
    "hash": "54a2628bfc12e9b4d3d3194e2a316ebe18c886fa72c16bf3f430004128d48a20"
   }
  }
 },
 "nbformat": 4,
 "nbformat_minor": 2
}
